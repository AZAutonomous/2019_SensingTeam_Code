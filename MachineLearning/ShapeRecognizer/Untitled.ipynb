{
 "cells": [
  {
   "cell_type": "code",
   "execution_count": 2,
   "metadata": {},
   "outputs": [],
   "source": [
    "import os\n",
    "\n",
    "directory = \"/Users/dakshp/TargetCreator/generated\"\n",
    "fileNames = []\n",
    "for filename in os.listdir(directory):\n",
    "    if filename.endswith(\".jpg\"): \n",
    "        fileNames.append(filename)\n",
    "        # print(os.path.join(directory, filename))\n",
    "        continue\n",
    "    else:\n",
    "        continue"
   ]
  },
  {
   "cell_type": "code",
   "execution_count": 3,
   "metadata": {},
   "outputs": [
    {
     "name": "stdout",
     "output_type": "stream",
     "text": [
      "['102_blue_semicircle_black_O_40.jpg', '102_yellow_semicircle_blue_K_40.jpg', '102_white_circle_gray_R_40.jpg', '102_blue_cross_yellow_8_40.jpg', '102_brown_trapezoid_yellow_J_40.jpg']\n"
     ]
    }
   ],
   "source": [
    "print(fileNames[:5])"
   ]
  },
  {
   "cell_type": "code",
   "execution_count": 4,
   "metadata": {},
   "outputs": [],
   "source": [
    "import numpy as np\n",
    "import cv2"
   ]
  },
  {
   "cell_type": "code",
   "execution_count": 13,
   "metadata": {},
   "outputs": [],
   "source": [
    "ims = np.ndarray([10, 40, 40, 3])\n",
    "labels = []"
   ]
  },
  {
   "cell_type": "code",
   "execution_count": 25,
   "metadata": {},
   "outputs": [
    {
     "name": "stdout",
     "output_type": "stream",
     "text": [
      "102_blue_semicircle_black_O_40.jpg\n",
      "102_yellow_semicircle_blue_K_40.jpg\n",
      "102_white_circle_gray_R_40.jpg\n",
      "102_blue_cross_yellow_8_40.jpg\n",
      "102_brown_trapezoid_yellow_J_40.jpg\n",
      "102_brown_hexagon_yellow_6_40.jpg\n",
      "102_red_star_orange_V_40.jpg\n",
      "102_red_heptagon_blue_W_40.jpg\n",
      "102_red_hexagon_black_W_40.jpg\n",
      "102_purple_octagon_green_8_40.jpg\n",
      "(10, 40, 40, 3) 20\n"
     ]
    }
   ],
   "source": [
    "for i in range(10):\n",
    "    print(fileNames[i])\n",
    "    currIm = cv2.imread(\"/Users/dakshp/TargetCreator/generated/\" + fileNames[i])\n",
    "    ims[i] = currIm\n",
    "    labels.append(fileNames[i].split(\"_\")[1:-1])\n",
    "    \n",
    "print(ims.shape, len(labels))"
   ]
  },
  {
   "cell_type": "code",
   "execution_count": 15,
   "metadata": {},
   "outputs": [
    {
     "name": "stdout",
     "output_type": "stream",
     "text": [
      "['blue', 'semicircle', 'black', 'O']\n"
     ]
    }
   ],
   "source": [
    "colors = {'white':  1,\n",
    "         'black':  2,\n",
    "         'gray':   3,\n",
    "         'red':    4,\n",
    "         'blue':   5, \n",
    "         'green':  6, \n",
    "         'yellow': 7, \n",
    "         'purple': 8,\n",
    "         'brown':  9,\n",
    "         'orange': 10}\n",
    "shapes = {\"circle\": 1,\n",
    "         \"cross\": 2,\n",
    "         \"heptagon\": 3,\n",
    "         \"hexagon\": 4,\n",
    "         \"octagon\": 5,\n",
    "         \"pentagon\": 6,\n",
    "         \"quartercircle\": 7,\n",
    "         \"rectangle\": 8,\n",
    "         \"semicircle\": 9,\n",
    "         \"square\": 10,\n",
    "         \"star\": 11,\n",
    "         \"trapezoid\": 12,\n",
    "         \"triangle\": 13}\n",
    "print(labels[0])"
   ]
  },
  {
   "cell_type": "code",
   "execution_count": 16,
   "metadata": {},
   "outputs": [
    {
     "name": "stdout",
     "output_type": "stream",
     "text": [
      "[5, 9, 2, 25]\n"
     ]
    }
   ],
   "source": [
    "numericLabels = []\n",
    "for labelList in labels:\n",
    "    newLabelList = [colors[labelList[0]], shapes[labelList[1]], colors[labelList[2]], ord(labelList[3]) - 54]\n",
    "    numericLabels.append(newLabelList)\n",
    "print(numericLabels[0])"
   ]
  },
  {
   "cell_type": "code",
   "execution_count": 17,
   "metadata": {},
   "outputs": [],
   "source": [
    "ndLabels = np.ndarray([len(numericLabels), 4])\n",
    "for i in range(len(numericLabels)):\n",
    "    ndLabels[i] = numericLabels[i]"
   ]
  },
  {
   "cell_type": "code",
   "execution_count": 18,
   "metadata": {},
   "outputs": [
    {
     "data": {
      "text/plain": [
       "True"
      ]
     },
     "execution_count": 18,
     "metadata": {},
     "output_type": "execute_result"
    }
   ],
   "source": [
    "len(ndLabels) == len(ims)"
   ]
  },
  {
   "cell_type": "code",
   "execution_count": 19,
   "metadata": {},
   "outputs": [],
   "source": [
    "x_test = np.ndarray([3, 40, 40, 3])\n",
    "y_test = np.ndarray([3, 4])\n",
    "\n",
    "x_train = np.ndarray([7, 40, 40, 3])\n",
    "y_train = np.ndarray([7, 4])\n",
    "\n",
    "# generate random integer values\n",
    "import random\n",
    "\n",
    "my_list = list(range(0,10))\n",
    "random.shuffle(my_list)\n",
    "\n",
    "test_indices = my_list[:3]\n",
    "train_indices = my_list[3:]\n",
    "\n",
    "for index in range(len(test_indices)):\n",
    "    x_test[index] = ims[test_indices[index]]\n",
    "    y_test[index] = ndLabels[test_indices[index]]\n",
    "    \n",
    "for index in range(len(train_indices)):\n",
    "    x_train[index] = ims[train_indices[index]]\n",
    "    y_train[index] = ndLabels[train_indices[index]]"
   ]
  },
  {
   "cell_type": "code",
   "execution_count": 71,
   "metadata": {},
   "outputs": [],
   "source": [
    "# np.save(\"x_test.npy\", x_test)\n",
    "# np.save(\"y_test.npy\", y_test)\n",
    "# np.save(\"x_train.npy\", x_train)\n",
    "# np.save(\"y_train.npy\", y_train)"
   ]
  },
  {
   "cell_type": "code",
   "execution_count": 26,
   "metadata": {},
   "outputs": [
    {
     "name": "stderr",
     "output_type": "stream",
     "text": [
      "Clipping input data to the valid range for imshow with RGB data ([0..1] for floats or [0..255] for integers).\n"
     ]
    },
    {
     "data": {
      "image/png": "[encoded data removed]",
      "text/plain": [
       "<Figure size 432x288 with 1 Axes>"
      ]
     },
     "metadata": {
      "needs_background": "light"
     },
     "output_type": "display_data"
    }
   ],
   "source": [
    "%matplotlib inline\n",
    "from matplotlib import pyplot as plt\n",
    "plt.imshow(ims[0], interpolation='nearest')\n",
    "plt.show()"
   ]
  },
  {
   "cell_type": "code",
   "execution_count": null,
   "metadata": {},
   "outputs": [],
   "source": []
  }
 ],
 "metadata": {
  "kernelspec": {
   "display_name": "Python 3",
   "language": "python",
   "name": "python3"
  },
  "language_info": {
   "codemirror_mode": {
    "name": "ipython",
    "version": 3
   },
   "file_extension": ".py",
   "mimetype": "text/x-python",
   "name": "python",
   "nbconvert_exporter": "python",
   "pygments_lexer": "ipython3",
   "version": "3.7.4"
  }
 },
 "nbformat": 4,
 "nbformat_minor": 2
}
